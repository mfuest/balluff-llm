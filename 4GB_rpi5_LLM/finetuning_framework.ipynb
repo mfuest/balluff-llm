{
 "cells": [
  {
   "cell_type": "markdown",
   "metadata": {},
   "source": [
    "### Finetuning Code\n",
    "\n",
    "Packages: \n",
    "\n",
    "datasets\n",
    "transformers\n",
    "peft\n",
    "LoRa"
   ]
  },
  {
   "cell_type": "markdown",
   "metadata": {},
   "source": [
    "# 1. Imports"
   ]
  },
  {
   "cell_type": "code",
   "execution_count": 1,
   "metadata": {},
   "outputs": [
    {
     "name": "stdout",
     "output_type": "stream",
     "text": [
      "Python executable: /Users/maximilianfuest/TUM/WS25/AI_Seminar/balluff-llm/balluff_venv/bin/python\n",
      "Python version: 3.10.16 (main, Dec  3 2024, 17:27:57) [Clang 16.0.0 (clang-1600.0.26.4)]\n",
      "PyTorch version: 2.6.0.dev20250103\n",
      "MPS available? True\n"
     ]
    }
   ],
   "source": [
    "# JUPYTER NOTEBOOK CELL\n",
    "\n",
    "##############################################\n",
    "# 1. Imports\n",
    "##############################################\n",
    "import sys\n",
    "import torch\n",
    "import sentencepiece\n",
    "print(\"Python executable:\", sys.executable)\n",
    "print(\"Python version:\", sys.version)\n",
    "print(\"PyTorch version:\", torch.__version__)\n",
    "print(\"MPS available?\", torch.backends.mps.is_available())\n"
   ]
  },
  {
   "cell_type": "code",
   "execution_count": 3,
   "metadata": {},
   "outputs": [],
   "source": [
    "\n",
    "from datasets import load_dataset\n",
    "from transformers import (\n",
    "    LlamaTokenizer,\n",
    "    LlamaForCausalLM,\n",
    "    Trainer,\n",
    "    TrainingArguments,\n",
    ")\n",
    "\n",
    "\n",
    "# Import PEFT for LoRA\n",
    "\n",
    "from peft import LoraConfig, get_peft_model, TaskType\n"
   ]
  },
  {
   "cell_type": "code",
   "execution_count": 4,
   "metadata": {},
   "outputs": [
    {
     "name": "stdout",
     "output_type": "stream",
     "text": [
      "Using device: mps\n"
     ]
    }
   ],
   "source": [
    "\n",
    "##############################################\n",
    "# 2. Basic config\n",
    "##############################################\n",
    "data_file = \"/Users/maximilianfuest/TUM/WS25/AI_Seminar/balluff-llm/4GB_rpi5_LLM/data/validation_checklist_context.json\"\n",
    "# JSON lines with keys: \"context\", \"prompt\", \"response\"\n",
    "# e.g., [{\"context\": \"...\", \"prompt\": \"...\", \"response\": \"...\"}]\n",
    "\n",
    "model_name = \"TinyLlama/TinyLlama-1.1B-Chat-v0.6\"\n",
    "output_dir = \"./tinyllama-finetuned-mps\"\n",
    "\n",
    "# Choose MPS if available, otherwise CPU\n",
    "device = torch.device(\"mps\" if torch.backends.mps.is_available() else \"cpu\")\n",
    "print(\"Using device:\", device)\n"
   ]
  },
  {
   "cell_type": "code",
   "execution_count": null,
   "metadata": {},
   "outputs": [],
   "source": [
    "\n",
    "##############################################\n",
    "# 3. Load dataset\n",
    "##############################################\n",
    "dataset = load_dataset(\"json\", data_files=data_file)\n",
    "train_dataset = dataset[\"train\"]"
   ]
  },
  {
   "cell_type": "code",
   "execution_count": 7,
   "metadata": {},
   "outputs": [],
   "source": [
    "\n",
    "##############################################\n",
    "# 4. Load tokenizer\n",
    "##############################################\n",
    "tokenizer = LlamaTokenizer.from_pretrained(model_name)\n",
    "\n",
    "# If the tokenizer doesn't define a pad token, reuse the EOS token.\n",
    "# This avoids padding-related errors when training LLaMA-like models.\n",
    "if tokenizer.pad_token is None:\n",
    "    tokenizer.pad_token = tokenizer.eos_token"
   ]
  },
  {
   "cell_type": "code",
   "execution_count": 8,
   "metadata": {},
   "outputs": [
    {
     "data": {
      "text/plain": [
       "LlamaForCausalLM(\n",
       "  (model): LlamaModel(\n",
       "    (embed_tokens): Embedding(32000, 2048)\n",
       "    (layers): ModuleList(\n",
       "      (0-21): 22 x LlamaDecoderLayer(\n",
       "        (self_attn): LlamaSdpaAttention(\n",
       "          (q_proj): Linear(in_features=2048, out_features=2048, bias=False)\n",
       "          (k_proj): Linear(in_features=2048, out_features=256, bias=False)\n",
       "          (v_proj): Linear(in_features=2048, out_features=256, bias=False)\n",
       "          (o_proj): Linear(in_features=2048, out_features=2048, bias=False)\n",
       "          (rotary_emb): LlamaRotaryEmbedding()\n",
       "        )\n",
       "        (mlp): LlamaMLP(\n",
       "          (gate_proj): Linear(in_features=2048, out_features=5632, bias=False)\n",
       "          (up_proj): Linear(in_features=2048, out_features=5632, bias=False)\n",
       "          (down_proj): Linear(in_features=5632, out_features=2048, bias=False)\n",
       "          (act_fn): SiLU()\n",
       "        )\n",
       "        (input_layernorm): LlamaRMSNorm((2048,), eps=1e-05)\n",
       "        (post_attention_layernorm): LlamaRMSNorm((2048,), eps=1e-05)\n",
       "      )\n",
       "    )\n",
       "    (norm): LlamaRMSNorm((2048,), eps=1e-05)\n",
       "    (rotary_emb): LlamaRotaryEmbedding()\n",
       "  )\n",
       "  (lm_head): Linear(in_features=2048, out_features=32000, bias=False)\n",
       ")"
      ]
     },
     "execution_count": 8,
     "metadata": {},
     "output_type": "execute_result"
    }
   ],
   "source": [
    "\n",
    "##############################################\n",
    "# 5. Load base model in bfloat16 & configure memory-saving features\n",
    "##############################################\n",
    "model = LlamaForCausalLM.from_pretrained(\n",
    "    model_name,\n",
    "    torch_dtype=torch.bfloat16  # bfloat16 on MPS if supported\n",
    ")\n",
    "\n",
    "# Disable use_cache (reduces memory usage)\n",
    "model.config.use_cache = False\n",
    "# Gradient checkpointing for lower memory\n",
    "model.config.gradient_checkpointing = True\n",
    "model.enable_input_require_grads()\n",
    "\n",
    "# Pad token configuration (avoid pad_token_id=None issues)\n",
    "model.config.pad_token_id = tokenizer.pad_token_id\n",
    "\n",
    "# Move base model to MPS (or CPU)\n",
    "model.to(device)"
   ]
  },
  {
   "cell_type": "code",
   "execution_count": 9,
   "metadata": {},
   "outputs": [
    {
     "name": "stdout",
     "output_type": "stream",
     "text": [
      "trainable params: 1,126,400 || all params: 1,101,174,784 || trainable%: 0.1023\n"
     ]
    }
   ],
   "source": [
    "\n",
    "##############################################\n",
    "# 6. Convert the model to LoRA (PEFT)\n",
    "##############################################\n",
    "# Define a LoRA configuration.\n",
    "# Adjust 'target_modules' depending on model architecture \n",
    "# (often \"q_proj\", \"v_proj\" for LLaMA; check model code if needed).\n",
    "lora_config = LoraConfig(\n",
    "    r=8,                         # Rank of LoRA matrices\n",
    "    lora_alpha=32,              # Scaling of LoRA\n",
    "    lora_dropout=0.05,          # Dropout in LoRA layers\n",
    "    bias=\"none\",\n",
    "    task_type=TaskType.CAUSAL_LM,\n",
    "    target_modules=[\"q_proj\", \"v_proj\"],  # Common modules in LLaMA\n",
    ")\n",
    "\n",
    "# Wrap the base model with LoRA adapters\n",
    "model = get_peft_model(model, lora_config)\n",
    "model.print_trainable_parameters()"
   ]
  },
  {
   "cell_type": "code",
   "execution_count": 10,
   "metadata": {},
   "outputs": [
    {
     "name": "stderr",
     "output_type": "stream",
     "text": [
      "Map: 100%|██████████| 16/16 [00:00<00:00, 217.35 examples/s]\n"
     ]
    }
   ],
   "source": [
    "\n",
    "##############################################\n",
    "# 7. Preprocessing function\n",
    "##############################################\n",
    "def preprocess_function(examples):\n",
    "    \"\"\"\n",
    "    Expects JSON fields: \"context\", \"prompt\", \"response\"\n",
    "    Merges context + prompt => input; response => labels\n",
    "    \"\"\"\n",
    "    inputs = []\n",
    "    for c, p in zip(examples[\"context\"], examples[\"prompt\"]):\n",
    "        inputs.append(f\"{c}\\nPrompt: {p}\\nResponse:\")\n",
    "\n",
    "    # Lower max_length if you still get OOM\n",
    "    model_inputs = tokenizer(\n",
    "        inputs,\n",
    "        padding=\"max_length\",\n",
    "        truncation=True,\n",
    "        max_length=256\n",
    "    )\n",
    "\n",
    "    labels = tokenizer(\n",
    "        examples[\"response\"],\n",
    "        padding=\"max_length\",\n",
    "        truncation=True,\n",
    "        max_length=256\n",
    "    )\n",
    "\n",
    "    model_inputs[\"labels\"] = labels[\"input_ids\"]\n",
    "    return model_inputs\n",
    "\n",
    "tokenized_dataset = train_dataset.map(preprocess_function, batched=True)"
   ]
  },
  {
   "cell_type": "code",
   "execution_count": 11,
   "metadata": {},
   "outputs": [
    {
     "name": "stderr",
     "output_type": "stream",
     "text": [
      "/Users/maximilianfuest/TUM/WS25/AI_Seminar/balluff-llm/balluff_venv/lib/python3.10/site-packages/transformers/training_args.py:1575: FutureWarning: `evaluation_strategy` is deprecated and will be removed in version 4.46 of 🤗 Transformers. Use `eval_strategy` instead\n",
      "  warnings.warn(\n"
     ]
    }
   ],
   "source": [
    "\n",
    "##############################################\n",
    "# 8. Training Arguments\n",
    "##############################################\n",
    "training_args = TrainingArguments(\n",
    "    output_dir=output_dir,\n",
    "    evaluation_strategy=\"no\",\n",
    "    save_strategy=\"steps\",\n",
    "    logging_dir=\"./logs\",\n",
    "    logging_steps=10,\n",
    "    per_device_train_batch_size=1,    # keep small for limited GPU memory\n",
    "    gradient_accumulation_steps=1,    # accumulate gradients if needed\n",
    "    learning_rate=2e-5,\n",
    "    num_train_epochs=1,              # bump to 2-3+ for real training\n",
    "    save_steps=50,\n",
    "    weight_decay=0.01,\n",
    "    fp16=False,                       # turn off regular fp16 in Trainer\n",
    "    bf16=True,                        # enable bfloat16 if supported\n",
    "    push_to_hub=False,\n",
    ")\n"
   ]
  },
  {
   "cell_type": "code",
   "execution_count": 12,
   "metadata": {},
   "outputs": [
    {
     "name": "stderr",
     "output_type": "stream",
     "text": [
      "/var/folders/4h/kwff19tn4yl9g137n64rhp540000gn/T/ipykernel_40715/1039681003.py:4: FutureWarning: `tokenizer` is deprecated and will be removed in version 5.0.0 for `Trainer.__init__`. Use `processing_class` instead.\n",
      "  trainer = Trainer(\n"
     ]
    }
   ],
   "source": [
    "\n",
    "##############################################\n",
    "# 9. Initialize Trainer with LoRA model\n",
    "##############################################\n",
    "trainer = Trainer(\n",
    "    model=model,\n",
    "    args=training_args,\n",
    "    train_dataset=tokenized_dataset,\n",
    "    tokenizer=tokenizer,\n",
    ")\n"
   ]
  },
  {
   "cell_type": "code",
   "execution_count": 13,
   "metadata": {},
   "outputs": [
    {
     "name": "stdout",
     "output_type": "stream",
     "text": [
      "Starting LoRA training on Apple Silicon GPU (MPS) in bfloat16...\n"
     ]
    },
    {
     "name": "stderr",
     "output_type": "stream",
     "text": [
      " 62%|██████▎   | 10/16 [00:14<00:06,  1.10s/it]"
     ]
    },
    {
     "name": "stdout",
     "output_type": "stream",
     "text": [
      "{'loss': 11.7711, 'grad_norm': 52.87956237792969, 'learning_rate': 7.500000000000001e-06, 'epoch': 0.62}\n"
     ]
    },
    {
     "name": "stderr",
     "output_type": "stream",
     "text": [
      "100%|██████████| 16/16 [00:21<00:00,  1.33s/it]"
     ]
    },
    {
     "name": "stdout",
     "output_type": "stream",
     "text": [
      "{'train_runtime': 21.3055, 'train_samples_per_second': 0.751, 'train_steps_per_second': 0.751, 'train_loss': 11.37181568145752, 'epoch': 1.0}\n"
     ]
    },
    {
     "name": "stderr",
     "output_type": "stream",
     "text": [
      "\n"
     ]
    },
    {
     "data": {
      "text/plain": [
       "TrainOutput(global_step=16, training_loss=11.37181568145752, metrics={'train_runtime': 21.3055, 'train_samples_per_second': 0.751, 'train_steps_per_second': 0.751, 'total_flos': 25451858755584.0, 'train_loss': 11.37181568145752, 'epoch': 1.0})"
      ]
     },
     "execution_count": 13,
     "metadata": {},
     "output_type": "execute_result"
    }
   ],
   "source": [
    "\n",
    "##############################################\n",
    "# 10. Train\n",
    "##############################################\n",
    "print(\"Starting LoRA training on Apple Silicon GPU (MPS) in bfloat16...\" if device.type == \"mps\" else \"Starting training on CPU...\")\n",
    "trainer.train()\n"
   ]
  },
  {
   "cell_type": "code",
   "execution_count": 14,
   "metadata": {},
   "outputs": [
    {
     "name": "stdout",
     "output_type": "stream",
     "text": [
      "LoRA-adapted model and tokenizer saved to: ./tinyllama-finetuned-mps\n"
     ]
    }
   ],
   "source": [
    "\n",
    "##############################################\n",
    "# 11. Save results\n",
    "##############################################\n",
    "trainer.save_model(output_dir)\n",
    "tokenizer.save_pretrained(output_dir)\n",
    "print(\"LoRA-adapted model and tokenizer saved to:\", output_dir)"
   ]
  }
 ],
 "metadata": {
  "kernelspec": {
   "display_name": "balluff_venv",
   "language": "python",
   "name": "python3"
  },
  "language_info": {
   "codemirror_mode": {
    "name": "ipython",
    "version": 3
   },
   "file_extension": ".py",
   "mimetype": "text/x-python",
   "name": "python",
   "nbconvert_exporter": "python",
   "pygments_lexer": "ipython3",
   "version": "3.10.16"
  }
 },
 "nbformat": 4,
 "nbformat_minor": 2
}
